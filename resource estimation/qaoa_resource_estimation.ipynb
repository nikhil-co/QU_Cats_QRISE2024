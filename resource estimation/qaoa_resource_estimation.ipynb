{
 "cells": [
  {
   "cell_type": "markdown",
   "metadata": {},
   "source": [
    "# Resource Estimation of QAOA\n",
    "\n",
    "> Note: \n",
    "> * The charts need to be rendered for every run unlike other outputs. So the charts from ```EstimatesOverview``` won't be visible when you open the notebook, but will be visible when you run the notebook."
   ]
  },
  {
   "cell_type": "code",
   "execution_count": 1,
   "metadata": {},
   "outputs": [
    {
     "data": {
      "application/javascript": "// Copyright (c) Microsoft Corporation.\n// Licensed under the MIT License.\n\n// This file provides CodeMirror syntax highlighting for Q# magic cells\n// in classic Jupyter Notebooks. It does nothing in other (Jupyter Notebook 7,\n// VS Code, Azure Notebooks, etc.) environments.\n\n// Detect the prerequisites and do nothing if they don't exist.\nif (window.require && window.CodeMirror && window.Jupyter) {\n  // The simple mode plugin for CodeMirror is not loaded by default, so require it.\n  window.require([\"codemirror/addon/mode/simple\"], function defineMode() {\n    let rules = [\n      {\n        token: \"comment\",\n        regex: /(\\/\\/).*/,\n        beginWord: false,\n      },\n      {\n        token: \"string\",\n        regex: String.raw`^\\\"(?:[^\\\"\\\\]|\\\\[\\s\\S])*(?:\\\"|$)`,\n        beginWord: false,\n      },\n      {\n        token: \"keyword\",\n        regex: String.raw`(namespace|open|as|operation|function|body|adjoint|newtype|controlled|internal)\\b`,\n        beginWord: true,\n      },\n      {\n        token: \"keyword\",\n        regex: String.raw`(if|elif|else|repeat|until|fixup|for|in|return|fail|within|apply)\\b`,\n        beginWord: true,\n      },\n      {\n        token: \"keyword\",\n        regex: String.raw`(Adjoint|Controlled|Adj|Ctl|is|self|auto|distribute|invert|intrinsic)\\b`,\n        beginWord: true,\n      },\n      {\n        token: \"keyword\",\n        regex: String.raw`(let|set|use|borrow|mutable)\\b`,\n        beginWord: true,\n      },\n      {\n        token: \"operatorKeyword\",\n        regex: String.raw`(not|and|or)\\b|(w/)`,\n        beginWord: true,\n      },\n      {\n        token: \"operatorKeyword\",\n        regex: String.raw`(=)|(!)|(<)|(>)|(\\+)|(-)|(\\*)|(/)|(\\^)|(%)|(\\|)|(&&&)|(~~~)|(\\.\\.\\.)|(\\.\\.)|(\\?)`,\n        beginWord: false,\n      },\n      {\n        token: \"meta\",\n        regex: String.raw`(Int|BigInt|Double|Bool|Qubit|Pauli|Result|Range|String|Unit)\\b`,\n        beginWord: true,\n      },\n      {\n        token: \"atom\",\n        regex: String.raw`(true|false|Pauli(I|X|Y|Z)|One|Zero)\\b`,\n        beginWord: true,\n      },\n    ];\n    let simpleRules = [];\n    for (let rule of rules) {\n      simpleRules.push({\n        token: rule.token,\n        regex: new RegExp(rule.regex, \"g\"),\n        sol: rule.beginWord,\n      });\n      if (rule.beginWord) {\n        // Need an additional rule due to the fact that CodeMirror simple mode doesn't work with ^ token\n        simpleRules.push({\n          token: rule.token,\n          regex: new RegExp(String.raw`\\W` + rule.regex, \"g\"),\n          sol: false,\n        });\n      }\n    }\n\n    // Register the mode defined above with CodeMirror\n    window.CodeMirror.defineSimpleMode(\"qsharp\", { start: simpleRules });\n    window.CodeMirror.defineMIME(\"text/x-qsharp\", \"qsharp\");\n\n    // Tell Jupyter to associate %%qsharp magic cells with the qsharp mode\n    window.Jupyter.CodeCell.options_default.highlight_modes[\"qsharp\"] = {\n      reg: [/^%%qsharp/],\n    };\n\n    // Force re-highlighting of all cells the first time this code runs\n    for (const cell of window.Jupyter.notebook.get_cells()) {\n      cell.auto_highlight();\n    }\n  });\n}\n",
      "text/plain": []
     },
     "metadata": {},
     "output_type": "display_data"
    }
   ],
   "source": [
    "# General imports\n",
    "import numpy as np\n",
    "import matplotlib.pyplot as plt\n",
    "\n",
    "# Qsharp\n",
    "import qsharp\n",
    "from qsharp_widgets import EstimatesOverview\n",
    "from qsharp.estimator import EstimatorParams, QubitParams, QECScheme"
   ]
  },
  {
   "cell_type": "code",
   "execution_count": 2,
   "metadata": {
    "vscode": {
     "languageId": "qsharp"
    }
   },
   "outputs": [],
   "source": [
    "%%qsharp\n",
    "// This is the Q# snippet used to create and simulate the QAOA circuit. \n",
    "namespace qaoa_note{\n",
    "\n",
    "    open Microsoft.Quantum.Measurement;\n",
    "\n",
    "    // Function for getting flat index\n",
    "    operation flat_index(n: Int, i: Int, j: Int): Int{\n",
    "        return n*i + j\n",
    "    }\n",
    "    // Cost Hamiltonian\n",
    "    operation cost_unitary(qubits: Qubit[], gamma: Double, quadratics: Double[], linears: Double[]): Unit{\n",
    "        \n",
    "        let n_qubits = Length(linears);\n",
    "        mutable quad_sum : Double = 0.0;\n",
    "\n",
    "        // RZ Gates\n",
    "        for qubit in 0..n_qubits-1{\n",
    "            set quad_sum = 0.0;\n",
    "            for quad_qubit in 0..n_qubits-1{\n",
    "                set quad_sum += quadratics[flat_index(n_qubits,qubit,quad_qubit)];\n",
    "            }\n",
    "            Rz(0.5 * (linears[qubit] + quad_sum) * gamma, qubits[qubit])\n",
    "        }\n",
    "        // RZZ Gates\n",
    "        for i in 0..n_qubits-1{\n",
    "            for j in i+1..n_qubits-1{                \n",
    "                Rzz(0.25 * quadratics[flat_index(n_qubits,i,j)] * gamma, qubits[i], qubits[j])\n",
    "            }\n",
    "        }\n",
    "    }\n",
    "\n",
    "    // Mixer Hamiltonian\n",
    "    operation mixer_unitary(qubits: Qubit[], beta: Double) : Unit{\n",
    "        for qubit in qubits{\n",
    "            Rx(2.0 * beta,qubit);\n",
    "        }\n",
    "    }\n",
    "\n",
    "    // Function to create the QAOA circuit.\n",
    "    operation circuit(NQubits: Int, Layers: Int, gammas: Double[], betas: Double[], quadratics: Double[], linears: Double[]) : Int {\n",
    "\n",
    "        use q = Qubit[NQubits]; \n",
    "        mutable integer_result = 0;\n",
    "        \n",
    "        // State Preparation |+>\n",
    "        ApplyToEachA(H,q);\n",
    "\n",
    "        for layer in 0..Layers-1{\n",
    "            cost_unitary(q, gammas[layer], quadratics, linears);\n",
    "            mixer_unitary(q, betas[layer]);\n",
    "        }\n",
    "        // Return the bitstring as an integer.\n",
    "        return MeasureInteger(q);\n",
    "    }\n",
    "}\n"
   ]
  },
  {
   "cell_type": "markdown",
   "metadata": {},
   "source": [
    "## Using the Resourse Estimator"
   ]
  },
  {
   "cell_type": "code",
   "execution_count": 3,
   "metadata": {},
   "outputs": [],
   "source": [
    "def arr_to_str(a):\n",
    "    \"\"\"\n",
    "    Converts a given array to a string representation.\n",
    "\n",
    "    Args:\n",
    "        a (list): The array to be converted.\n",
    "\n",
    "    Returns:\n",
    "        str: The string representation of the array.\n",
    "\n",
    "    Example:\n",
    "        >>> arr_to_str([1, 2, 3])\n",
    "        '[1,2,3]'\n",
    "    \"\"\"\n",
    "    string =''\n",
    "    for i in a:\n",
    "        string += str(i) + \",\"\n",
    "    return '[' + string[:-1] + ']'\n",
    "\n",
    "def generate_qsharp_string(n_qubits: int = 3,layers: int = 3) -> str:\n",
    "    \n",
    "    # Preparing inputs for the Q# function.\n",
    "    quadratics = np.array([1.1] * n_qubits**2)\n",
    "    linears = np.array([1.2] * n_qubits)\n",
    "\n",
    "    gammas = np.random.rand(layers)\n",
    "    betas = np.random.rand(layers)\n",
    "\n",
    "    input_str = f\"{n_qubits},{layers},{arr_to_str(gammas)},{arr_to_str(betas)},{arr_to_str(quadratics)},{arr_to_str(linears)}\"\n",
    "\n",
    "    qsharp_string = f\"qaoa_note.circuit({input_str})\"\n",
    "\n",
    "    return qsharp_string"
   ]
  },
  {
   "cell_type": "code",
   "execution_count": 4,
   "metadata": {},
   "outputs": [],
   "source": [
    "input_str = generate_qsharp_string(3,3)"
   ]
  },
  {
   "cell_type": "code",
   "execution_count": 5,
   "metadata": {},
   "outputs": [
    {
     "data": {
      "application/vnd.jupyter.widget-view+json": {
       "model_id": "5935e02395bb4810be66ca69931ba60f",
       "version_major": 2,
       "version_minor": 0
      },
      "text/plain": [
       "EstimatesOverview(estimates={'status': 'success', 'jobParams': {'qecScheme': {'name': 'floquet_code', 'errorCo…"
      ]
     },
     "execution_count": 5,
     "metadata": {},
     "output_type": "execute_result"
    }
   ],
   "source": [
    "result = qsharp.estimate(input_str, params={\"errorBudget\": 0.01, \"qubitParams\": {\"name\": \"qubit_maj_ns_e6\"}, \"qecScheme\": {\"name\": \"floquet_code\"},\"estimateType\": \"frontier\", \"constraints\": {\"logicalDepthFactor\": 4}})\n",
    "\n",
    "estimates_overview = EstimatesOverview(result)\n",
    "estimates_overview"
   ]
  },
  {
   "cell_type": "code",
   "execution_count": 6,
   "metadata": {},
   "outputs": [
    {
     "data": {
      "application/vnd.jupyter.widget-view+json": {
       "model_id": "8a667a0f0850437c828d62122e389054",
       "version_major": 2,
       "version_minor": 0
      },
      "text/plain": [
       "EstimatesOverview(estimates={0: {'status': 'success', 'jobParams': {'qecScheme': {'name': 'surface_code', 'err…"
      ]
     },
     "execution_count": 6,
     "metadata": {},
     "output_type": "execute_result"
    }
   ],
   "source": [
    "labels = [\"Gate-based µs, 10⁻³\", \"Gate-based µs, 10⁻⁴\", \"Gate-based ns, 10⁻³\", \"Gate-based ns, 10⁻⁴\", \"F-Majorana ns, 10⁻⁴\", \"F-Majorana ns, 10⁻⁶\", \"S-Majorana ns, 10⁻⁴\", \"S-Majorana ns, 10⁻⁶\"]\n",
    "\n",
    "params = EstimatorParams(num_items=8)\n",
    "params.error_budget = 0.333\n",
    "params.items[0].qubit_params.name = QubitParams.GATE_US_E3\n",
    "params.items[0].qubit_params.estimateType = \"frontier\"\n",
    "params.items[1].qubit_params.name = QubitParams.GATE_US_E4\n",
    "params.items[1].qubit_params.estimateType = \"frontier\"\n",
    "params.items[2].qubit_params.name = QubitParams.GATE_NS_E3\n",
    "params.items[2].qubit_params.estimateType = \"frontier\"\n",
    "params.items[3].qubit_params.name = QubitParams.GATE_NS_E4\n",
    "params.items[3].qubit_params.estimateType = \"frontier\"\n",
    "params.items[4].qubit_params.name = QubitParams.MAJ_NS_E4\n",
    "params.items[4].qubit_params.estimateType = \"frontier\"\n",
    "params.items[4].qec_scheme.name = QECScheme.FLOQUET_CODE\n",
    "params.items[5].qubit_params.name = QubitParams.MAJ_NS_E6\n",
    "params.items[5].qubit_params.estimateType = \"frontier\"\n",
    "params.items[5].qec_scheme.name = QECScheme.FLOQUET_CODE\n",
    "params.items[6].qubit_params.name = QubitParams.MAJ_NS_E4\n",
    "params.items[6].qubit_params.estimateType = \"frontier\"\n",
    "params.items[6].qec_scheme.name = QECScheme.SURFACE_CODE\n",
    "params.items[7].qubit_params.name = \"qubit_maj_ns_e6\"\n",
    "params.items[7].qec_scheme.name = QECScheme.SURFACE_CODE\n",
    "params.items[7].qubit_params.estimateType = \"frontier\"\n",
    "\n",
    "\n",
    "# results = qsharp.estimate(f\"qaoa_note.circuit({input_str})\", params=params).summary_data_frame(labels=labels)\n",
    "# display(results[:])\n",
    "\n",
    "result = qsharp.estimate(input_str, params=params)\n",
    "\n",
    "estimates_overview = EstimatesOverview(result,runNames=labels)\n",
    "estimates_overview"
   ]
  },
  {
   "cell_type": "code",
   "execution_count": 7,
   "metadata": {},
   "outputs": [
    {
     "data": {
      "application/vnd.jupyter.widget-view+json": {
       "model_id": "2d2c01f60be142b682b050936f29e183",
       "version_major": 2,
       "version_minor": 0
      },
      "text/plain": [
       "EstimatesOverview(estimates={0: {'status': 'success', 'jobParams': {'qecScheme': {'name': 'surface_code', 'err…"
      ]
     },
     "execution_count": 7,
     "metadata": {},
     "output_type": "execute_result"
    }
   ],
   "source": [
    "result = qsharp.estimate(\n",
    "    input_str, \n",
    "    params=[\n",
    "        {\n",
    "            \"error_budget\": 0.333,\n",
    "            \"qubitParams\": { \"name\": \"qubit_gate_ns_e3\" },\n",
    "            \"qecScheme\": { \"name\": \"surface_code\" },\n",
    "            \"estimateType\": \"frontier\", # Pareto frontier estimation\n",
    "        },\n",
    "        {\n",
    "            \"error_budget\": 0.333,\n",
    "            \"qubitParams\": { \"name\": \"qubit_gate_ns_e4\" },\n",
    "            \"qecScheme\": { \"name\": \"surface_code\" },\n",
    "            \"estimateType\": \"frontier\", # Pareto frontier estimation\n",
    "        },\n",
    "        {\n",
    "            \"error_budget\": 0.333,\n",
    "            \"qubitParams\": { \"name\": \"qubit_gate_us_e3\" },\n",
    "            \"qecScheme\": { \"name\": \"surface_code\" },\n",
    "            \"estimateType\": \"frontier\", # Pareto frontier estimation\n",
    "        },\n",
    "        {\n",
    "            \"error_budget\": 0.333,\n",
    "            \"qubitParams\": { \"name\": \"qubit_gate_us_e4\" },\n",
    "            \"qecScheme\": { \"name\": \"surface_code\" },\n",
    "            \"estimateType\": \"frontier\", # Pareto frontier estimation\n",
    "        },\n",
    "        {\n",
    "            \"error_budget\": 0.333,\n",
    "            \"qubitParams\": { \"name\": \"qubit_maj_ns_e4\" },\n",
    "            \"qecScheme\": { \"name\": \"surface_code\" },\n",
    "            \"estimateType\": \"frontier\", # Pareto frontier estimation\n",
    "        },\n",
    "        {\n",
    "            \"error_budget\": 0.333,\n",
    "            \"qubitParams\": { \"name\": \"qubit_maj_ns_e4\" },\n",
    "            \"qecScheme\": { \"name\": \"floquet_code\" },\n",
    "            \"estimateType\": \"frontier\", # Pareto frontier estimation\n",
    "        },\n",
    "        {\n",
    "            \"error_budget\": 0.333,\n",
    "            \"qubitParams\": { \"name\": \"qubit_maj_ns_e6\" },\n",
    "            \"qecScheme\": { \"name\": \"surface_code\" },\n",
    "            \"estimateType\": \"frontier\", # Pareto frontier estimation\n",
    "        },\n",
    "        {\n",
    "            \"error_budget\": 0.333,\n",
    "            \"qubitParams\": { \"name\": \"qubit_maj_ns_e6\" },\n",
    "            \"qecScheme\": { \"name\": \"floquet_code\" },\n",
    "            \"estimateType\": \"frontier\", # Pareto frontier estimation\n",
    "        }\n",
    "    ]\n",
    ")\n",
    "\n",
    "runNames = [\n",
    "    \"Gate-based µs, 10⁻³\", \"Gate-based µs, 10⁻⁴\",\n",
    "    \"Gate-based ns, 10⁻³\", \"Gate-based ns, 10⁻⁴\",\n",
    "    \"S-Majorana ns, 10⁻⁴\", \"F-Majorana ns, 10⁻⁴\",\n",
    "    \"S-Majorana ns, 10⁻⁶\", \"F-Majorana ns, 10⁻⁶\"\n",
    "]\n",
    "\n",
    "EstimatesOverview(result, runNames=runNames)\n"
   ]
  }
 ],
 "metadata": {
  "kernelspec": {
   "display_name": "Python 3 (ipykernel)",
   "language": "python",
   "name": "python3"
  },
  "language_info": {
   "codemirror_mode": {
    "name": "ipython",
    "version": 3
   },
   "file_extension": ".py",
   "mimetype": "text/x-python",
   "name": "python",
   "nbconvert_exporter": "python",
   "pygments_lexer": "ipython3",
   "version": "3.11.8"
  }
 },
 "nbformat": 4,
 "nbformat_minor": 2
}
